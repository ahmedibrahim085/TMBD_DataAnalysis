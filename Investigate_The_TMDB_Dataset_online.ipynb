{
 "cells": [
  {
   "cell_type": "markdown",
   "metadata": {},
   "source": [
    "> **Tip**: Welcome to the Investigate a Dataset project! You will find tips in quoted sections like this to help organize your approach to your investigation. Before submitting your project, it will be a good idea to go back through your report and remove these sections to make the presentation of your work as tidy as possible. First things first, you might want to double-click this Markdown cell and change the title so that it reflects your dataset and investigation.\n",
    "\n",
    "# Project: Investigate The TMBD Dataset\n",
    "\n",
    "## Table of Contents\n",
    "<ul>\n",
    "<li><a href=\"#intro\">Introduction</a></li>\n",
    "<li><a href=\"#wrangling\">Data Wrangling</a></li>\n",
    "<li><a href=\"#eda\">Exploratory Data Analysis</a></li>\n",
    "<li><a href=\"#conclusions\">Conclusions</a></li>\n",
    "</ul>"
   ]
  },
  {
   "cell_type": "markdown",
   "metadata": {},
   "source": [
    "<a id='intro'></a>\n",
    "## Introduction\n",
    "\n",
    "### Dataset Description \n",
    "\n",
    "**This is a TMBD movie data set and I am going to Analyiz it to undertsand**\n",
    "1. The internet avilability on the Industry\n",
    "2. The impact of economical recession on the Movie industry"
   ]
  },
  {
   "cell_type": "markdown",
   "metadata": {},
   "source": [
    "**References**\n",
    "1. https://github.com/palewire/cpi\n",
    "2. https://github.com/celiao/tmdbsimple/\n",
    "3. https://www.kaggle.com/tmdb/tmdb-movie-metadata/discussion/58203\n",
    "4. https://www.kaggle.com/tmdb/tmdb-movie-metadata/discussion/271794\n",
    "5. https://towardsdatascience.com/the-easiest-way-to-adjust-your-data-for-inflation-in-python-365490c03969"
   ]
  },
  {
   "cell_type": "code",
   "execution_count": null,
   "metadata": {},
   "outputs": [],
   "source": [
    "# install the tmbd library to get the movie missing info\n",
    "!pip install tmdbsimple\n",
    "# install the CPI library will be used to convert budget to 2010 inflation rate as it is the refereance as per the documentation\n",
    "!pip install cpi\n",
    "# Upgrade pandas to use dataframe.explode() function. \n",
    "!pip install --upgrade pandas\n",
    "# !pip install --upgrade pandas==0.25.0"
   ]
  },
  {
   "cell_type": "code",
   "execution_count": null,
   "metadata": {},
   "outputs": [],
   "source": [
    "import pandas as pd\n",
    "# Supress warning is not a recomennded option, however I enabled it as I got several warning\n",
    "## visit: https://www.dataquest.io/blog/settingwithcopywarning/ (Mentioned in the references)\n",
    "pd.set_option('mode.chained_assignment', None)\n",
    "import numpy as np\n",
    "import matplotlib.pyplot as plt\n",
    "import seaborn as sns\n",
    "%matplotlib inline\n",
    "\n",
    "# for internet calls to try toget as much data as possible\n",
    "import requests\n",
    "import json\n",
    "# TMBD Library\n",
    "import tmdbsimple as tmdb\n",
    "tmdb.API_KEY = 'INSERT_TMBD_TOKEN_HERE' # please add your key if you reached max limit to be able to continue\n",
    "# for inflation adjustment\n",
    "import cpi\n",
    "# For date time function\n",
    "import datetime\n",
    "# for time claulations to meausre how long a function takes\n",
    "import time"
   ]
  },
  {
   "cell_type": "code",
   "execution_count": null,
   "metadata": {
    "scrolled": true
   },
   "outputs": [],
   "source": [
    "#-> can be Commented if you don't want inflation updated data especially that it takes long time to run\n",
    "cpi.update() "
   ]
  },
  {
   "cell_type": "markdown",
   "metadata": {},
   "source": [
    "<a id='wrangling'></a>\n",
    "## Data Wrangling\n",
    "\n",
    "> **Tip**: In this section of the report, you will load in the data, check for cleanliness, and then trim and clean your dataset for analysis. Make sure that you **document your data cleaning steps in mark-down cells precisely and justify your cleaning decisions.**\n",
    "\n",
    "\n",
    "### General Properties\n",
    "> **Tip**: You should _not_ perform too many operations in each cell. Create cells freely to explore your data. One option that you can take with this project is to do a lot of explorations in an initial notebook. These don't have to be organized, but make sure you use enough comments to understand the purpose of each code cell. Then, after you're done with your analysis, create a duplicate notebook where you will trim the excess and organize your steps so that you have a flowing, cohesive report."
   ]
  },
  {
   "cell_type": "markdown",
   "metadata": {},
   "source": [
    "<a id='generalfunctions'></a>\n",
    "## General functions\n",
    "\n",
    "> **Imp**: This section will include the general functions that may be used by one or of the below cels"
   ]
  },
  {
   "cell_type": "code",
   "execution_count": null,
   "metadata": {},
   "outputs": [],
   "source": [
    "'''\n",
    "The final two columns ending with “_adj” show the budget and revenue of the associated movie in terms of **2010** dollars, accounting for inflation over time.\n",
    "'''\n",
    "def get_inflation_adjusted(amount, source_year, target_year):\n",
    "    amount_adjusted = cpi.inflate(amount, source_year, to=target_year)\n",
    "    print ('=== START === get_inflation_adjusted === START === ')\n",
    "    print ('amount ', amount, 'current_year ', source_year, 'target_year ', target_year)\n",
    "    print ('The adjusted inflation for ', amount, ' is ', amount_adjusted)\n",
    "    print ('=== FIN === get_inflation_adjusted === FIN === ')\n",
    "    return amount_adjusted"
   ]
  },
  {
   "cell_type": "code",
   "execution_count": null,
   "metadata": {
    "scrolled": true
   },
   "outputs": [],
   "source": [
    "# Load your data and print out a few lines. Perform operations to inspect data\n",
    "#   types and look for instances of missing or possibly errant data.\n",
    "df = pd.read_csv('tmdb-movies.csv')\n",
    "\n",
    "# display first ten rows of data\n",
    "df.head(10)"
   ]
  },
  {
   "cell_type": "code",
   "execution_count": null,
   "metadata": {},
   "outputs": [],
   "source": [
    "# this returns a tuple of the dimensions of the dataframe\n",
    "df.shape"
   ]
  },
  {
   "cell_type": "code",
   "execution_count": null,
   "metadata": {},
   "outputs": [],
   "source": [
    "#Get infomrtaion aboy the data\n",
    "df.info()"
   ]
  },
  {
   "cell_type": "code",
   "execution_count": null,
   "metadata": {},
   "outputs": [],
   "source": [
    "df.dtypes"
   ]
  },
  {
   "cell_type": "code",
   "execution_count": null,
   "metadata": {
    "scrolled": true
   },
   "outputs": [],
   "source": [
    "# We will use this info to compare between the original description & the later one after cleaning & completeing the data from the interne\n",
    "df.describe()"
   ]
  },
  {
   "cell_type": "markdown",
   "metadata": {},
   "source": [
    "**Note** It is clear that we have a lot of missing values so we will try to get them from a source of truth which are TMDB, & imbd\n",
    "Types of missing values that we will focus on are Zero value, & Nulls.\n",
    "Then we will count the missing values, now, & then to know how many values we were able to recover"
   ]
  },
  {
   "cell_type": "markdown",
   "metadata": {},
   "source": [
    "**Columns with Null or Zero values**"
   ]
  },
  {
   "cell_type": "code",
   "execution_count": null,
   "metadata": {
    "scrolled": true
   },
   "outputs": [],
   "source": [
    "# Columns - With Null Value\n",
    "# return a list of the columns which have missing values\n",
    "columns_nulls = df.columns[df.isnull().any()]\n",
    "print('columns_missing_values are: ', columns_nulls, '\\n')\n",
    "\n",
    "for column in columns_nulls:\n",
    "    print('The number of nulls in ', column, ' is ', df[column].isnull().sum())"
   ]
  },
  {
   "cell_type": "code",
   "execution_count": null,
   "metadata": {},
   "outputs": [],
   "source": [
    "# Columns - With Zero Value\n",
    "# return a list of the columns which have ZERO values\n",
    "columns_zero_values = df.columns[df.isin([0]).any()]\n",
    "print('columns_zero_values are: ', columns_zero_values)\n",
    "\n",
    "'''\n",
    " #   Column                Non-Null Count  Dtype  \n",
    "---  ------                --------------  -----  \n",
    " 3   budget                10866 non-null  int64  \n",
    " 4   revenue               10866 non-null  int64  \n",
    " 12  runtime               10866 non-null  int64  \n",
    " 19  budget_adj            10866 non-null  float64\n",
    " 20  revenue_adj           10866 non-null  float64\n",
    "'''\n",
    "for colum in columns_zero_values:\n",
    "    value_zero = (df[colum] == 0).sum()\n",
    "    print('the number of ZERO valuses in ', colum, ' is ', value_zero)\n",
    "#     value_not_Zero = (df[colum] != 0).sum()\n",
    "#     print('the number of NOT-ZERO valuses in ', colum, ' is ', value_not_Zero )\n",
    "#     print ('Total for verification is ', (value_zero+value_not_Zero), '\\n')"
   ]
  },
  {
   "cell_type": "markdown",
   "metadata": {},
   "source": [
    "**Notes**\n",
    "- Columns with Null (Missing) values are: (['imdb_id', 'cast', 'homepage', 'director', 'tagline', 'keywords', 'overview', 'genres', 'production_companies']\n",
    "\n",
    "- Columns with Zero values are:  Index(['budget', 'revenue', 'runtime', 'budget_adj', 'revenue_adj']\n",
    "\n",
    "**Quick conclusion:**\n",
    "- Financial related columns has Zero values\n",
    "- Data related columns has nulls (Missing values)\n",
    "- The date 'release_date' & year 'release_year' columns has NO missing info. But, the \"release_date\" columns raws formats are not the same\n",
    "- The ID column has no missing values which is a good point when we try to get the missing info from the TMBD internet\n",
    "- The ['popularity', 'Original title', 'Vote_count'] has no missing values"
   ]
  },
  {
   "cell_type": "markdown",
   "metadata": {},
   "source": [
    "**Raws with Null or Zero values**"
   ]
  },
  {
   "cell_type": "code",
   "execution_count": null,
   "metadata": {},
   "outputs": [],
   "source": [
    "#find raws with Zero values\n",
    "raws_with_zero_values_original = df[df.isin([0]).any(axis=1)]\n",
    "print(raws_with_zero_values_original)"
   ]
  },
  {
   "cell_type": "code",
   "execution_count": null,
   "metadata": {},
   "outputs": [],
   "source": [
    "# find raws with NULL valus\n",
    "raws_with_null_values_original = df[df.isnull().any(axis=1)]\n",
    "print(raws_with_null_values_original)"
   ]
  },
  {
   "cell_type": "markdown",
   "metadata": {},
   "source": [
    "**Note** find raws with NULL (Missing) values, & Zero Values, we may need to compare that later after cleaning\n",
    "- Raws with \"NULL\" valus : [8874 rows x 21 columns]\n",
    "- Raws with \"Zero\" values : [7011 rows x 21 columns]"
   ]
  },
  {
   "cell_type": "code",
   "execution_count": null,
   "metadata": {},
   "outputs": [],
   "source": [
    "print ('raws_with_null_values : ',raws_with_null_values_original.size)\n",
    "print ('raws_with_zero_values : ',raws_with_zero_values_original.size)"
   ]
  },
  {
   "cell_type": "markdown",
   "metadata": {},
   "source": [
    "\n",
    "### Data Cleaning\n",
    "> **Tip**: Make sure that you keep your reader informed on the steps that you are taking in your investigation. Follow every code cell, or every set of related code cells, with a markdown cell to describe to the reader what was found in the preceding cell(s). Try to make it so that the reader can then understand what they will be seeing in the following cell(s).\n",
    " "
   ]
  },
  {
   "cell_type": "markdown",
   "metadata": {},
   "source": [
    "### Data Cleaning\n",
    "1. Remove duplicates\n",
    "2. rename id columns to tmbd_id\n",
    "3. Unify release_date formate\n",
    "    3.1. change the 2 digit years into 4 digit years\n",
    "4. fill the missing data from a trusted source\n",
    "4. adjust inflation values\n",
    "    4.1. using values already in the dataframe we will find\n",
    "    - the budjet from adjusted budjet & vicevers\n",
    "    - the revenue from adjusted revenu & vicevers"
   ]
  },
  {
   "cell_type": "markdown",
   "metadata": {},
   "source": [
    "### Cleaning step 1 find & drop duplicates duplicates"
   ]
  },
  {
   "cell_type": "code",
   "execution_count": null,
   "metadata": {},
   "outputs": [],
   "source": [
    "# count the current duplicates\n",
    "sum(df.duplicated())"
   ]
  },
  {
   "cell_type": "markdown",
   "metadata": {},
   "source": [
    "We found only 1 duplicate (No columns removed yet)"
   ]
  },
  {
   "cell_type": "code",
   "execution_count": null,
   "metadata": {},
   "outputs": [],
   "source": [
    "# drop duplicates\n",
    "df.drop_duplicates(inplace=True)"
   ]
  },
  {
   "cell_type": "code",
   "execution_count": null,
   "metadata": {},
   "outputs": [],
   "source": [
    "# confirm correction by rechecking for duplicates in the data\n",
    "sum(df.duplicated())"
   ]
  },
  {
   "cell_type": "markdown",
   "metadata": {},
   "source": [
    "### Cleaning Step 2 rename confusing columns"
   ]
  },
  {
   "cell_type": "code",
   "execution_count": null,
   "metadata": {},
   "outputs": [],
   "source": [
    "# Cleaning Step 2 rename confusing columns\n",
    "df.rename(columns={'id': 'tmbd_id'}, inplace=True)"
   ]
  },
  {
   "cell_type": "code",
   "execution_count": null,
   "metadata": {},
   "outputs": [],
   "source": [
    "# confirm that rename is sucessuss\n",
    "df.head(1)"
   ]
  },
  {
   "cell_type": "markdown",
   "metadata": {},
   "source": [
    "### Cleaning Step 3 drop columns that willnot be used\n",
    "**NOTE** on my next Analaysi part I wil lfocus more on financials & not names, so I drop all columns that are notr related to finance\n",
    "- The following columns will be dropped\n",
    "-- 'imdb_id', 'cast', 'homepage', 'director', 'tagline', 'keywords', 'overview', 'genres', 'production_companies']\n",
    "\n",
    "- The following columns will stay (TMBD_id used to be known only as id before renaming it)\n",
    "-- 'TMBD_id', 'popularity', 'budget', 'revenue', 'original_title',  'runtime', 'genres' , 'release_date', 'vote_count', 'vote_average', 'release_year', 'budget_adj', 'revenue_adj', "
   ]
  },
  {
   "cell_type": "code",
   "execution_count": null,
   "metadata": {},
   "outputs": [],
   "source": [
    "dfng = df.copy()"
   ]
  },
  {
   "cell_type": "code",
   "execution_count": null,
   "metadata": {},
   "outputs": [],
   "source": [
    "dfng.head(1)"
   ]
  },
  {
   "cell_type": "code",
   "execution_count": null,
   "metadata": {},
   "outputs": [],
   "source": [
    "dfng = dfng.drop(['imdb_id','cast','homepage','director','tagline','keywords','overview','genres','production_companies', 'release_date'], axis=1)"
   ]
  },
  {
   "cell_type": "code",
   "execution_count": null,
   "metadata": {
    "scrolled": true
   },
   "outputs": [],
   "source": [
    "dfng.head(5)"
   ]
  },
  {
   "cell_type": "markdown",
   "metadata": {},
   "source": [
    "### cleaning step 4 fill the missing from a source of truth "
   ]
  },
  {
   "cell_type": "markdown",
   "metadata": {},
   "source": [
    "**Note** \n",
    "If you have missing data & can get it from trusted resource, go do it. then do your Analysis\n",
    "- columns_zero_values are:  Index(['budget', 'revenue', 'runtime', 'budget_adj', 'revenue_adj']\n",
    "**Runtime**\n",
    "- As it doesn't make sense to have a movie with 0 min. We are going to try to fill the runtime column data as the number of ZERO valuses in runtime column are  31"
   ]
  },
  {
   "cell_type": "markdown",
   "metadata": {},
   "source": [
    "## !Note  : the below code do multiple internet calls and will take time\n",
    "### you can skip if you want but the conclussion you will have will differ"
   ]
  },
  {
   "cell_type": "code",
   "execution_count": null,
   "metadata": {
    "scrolled": true
   },
   "outputs": [],
   "source": [
    "#columns_zero_values are:  Index(['budget', 'revenue', 'runtime', 'budget_adj', 'revenue_adj']\n",
    "for i in range(len(dfng['runtime'])):\n",
    "    if dfng[\"runtime\"].iloc[i] == 0:\n",
    "        print ('\\n the movie ', dfng[\"original_title\"].iloc[i], 'has Zero runtime , & its TMDB_id is ', dfng[\"tmbd_id\"].iloc[i])\n",
    "        # Get the Movie info from TMBD\n",
    "        try:\n",
    "            movie_tmbd_id = dfng[\"tmbd_id\"].iloc[i]\n",
    "            movie = tmdb.Movies(movie_tmbd_id)\n",
    "\n",
    "            # get runtime as it doesn't make sense to have a movie with 0 min\n",
    "            movie_runtime = movie.info()[\"runtime\"]\n",
    "            if (movie.info()[\"runtime\"] !=0):\n",
    "                print('the movie ', dfng[\"original_title\"].iloc[i], ' has a TMBD runtime of ', movie_runtime , ' mins')\n",
    "                # This worked but with a warrning, warning was suppresed see tiop notes of the excercis at import\n",
    "                dfng[\"runtime\"].iloc[i] = np.int64(movie.info()[\"runtime\"])\n",
    "                print('The new Runtime is ', dfng[\"runtime\"].iloc[i], '\\n')\n",
    "\n",
    "                # check budget and update \n",
    "                # if Original data budgut is Zero\n",
    "                if (dfng[\"budget\"].iloc[i] != movie.info()[\"budget\"]):\n",
    "                    print ('\\nthe movie ', dfng[\"original_title\"].iloc[i], 'has dfng budget of  : ', dfng[\"budget\"].iloc[i])\n",
    "                    print ('the movie ', dfng[\"original_title\"].iloc[i], 'has TMDB budget of : ', movie.info()[\"budget\"])\n",
    "                    if movie.info()[\"budget\"] !=0:\n",
    "                        dfng[\"budget\"].iloc[i] = movie.info()[\"budget\"]\n",
    "                        print ('the movie ', dfng[\"original_title\"].iloc[i], 'has updated budget of : ', dfng[\"budget\"].iloc[i])\n",
    "\n",
    "                        # adjust for inflation\n",
    "                        print('adjust for inflation \\n')\n",
    "                        print ('the movie ', dfng[\"original_title\"].iloc[i], 'has dfng adjusted budget of : ', dfng[\"budget_adj\"].iloc[i])\n",
    "                        if dfng[\"budget_adj\"].iloc[i] == 0:\n",
    "                            movie_budget_adj = get_inflation_adjusted(movie.info()[\"budget\"], dfng[\"release_year\"].iloc[i], 2010)\n",
    "                            # Replace the 0 budget_adj with the retunred budget_adj\n",
    "                            print('movie_budget_adj : ', movie_budget_adj)\n",
    "                            dfng[\"budget_adj\"].iloc[i] = np.int64(movie_budget_adj)\n",
    "                            print ('the movie ', dfng[\"original_title\"].iloc[i], 'has updated budget of : ', dfng[\"budget_adj\"].iloc[i])\n",
    "\n",
    "               # check Revenu and update \n",
    "                # if Original data of Revenu is Zero\n",
    "                if (dfng[\"revenue\"].iloc[i] != movie.info()[\"revenue\"]):\n",
    "                    print ('\\nthe movie ', dfng[\"original_title\"].iloc[i], 'has dfng revenu of  : ', dfng[\"revenue\"].iloc[i])\n",
    "                    print ('the movie ', dfng[\"original_title\"].iloc[i], 'has TMDB revenue of : ', movie.info()[\"revenue\"])\n",
    "                    if movie.info()[\"revenue\"] !=0:\n",
    "                        dfng[\"revenue\"].iloc[i] = movie.info()[\"revenue\"]\n",
    "                        print ('the movie ', dfng[\"original_title\"].iloc[i], 'has updated revenue of : ', dfng[\"revenue\"].iloc[i])\n",
    "\n",
    "                        # adjust revenue for inflation\n",
    "                        print('adjust revenue for inflation \\n')\n",
    "                        print ('the movie ', dfng[\"original_title\"].iloc[i], 'has dfng adjusted revenue of : ', dfng[\"revenue_adj\"].iloc[i])\n",
    "                        if dfng[\"revenue_adj\"].iloc[i] == 0:\n",
    "                            movie_revenue_adj = get_inflation_adjusted(movie.info()[\"revenue\"], dfng[\"release_year\"].iloc[i], 2010)\n",
    "                            # Replace the 0 budget_adj with the retunred budget_adj\n",
    "                            print('movie_revenue_adj : ', movie_revenue_adj)\n",
    "                            dfng[\"revenue_adj\"].iloc[i] = np.int64(movie_revenue_adj)\n",
    "                            print ('the movie ', dfng[\"original_title\"].iloc[i], 'has updated revenue_adj of : ', dfng[\"revenue_adj\"].iloc[i])\n",
    "                \n",
    "                # check popularity\n",
    "                if (dfng[\"popularity\"].iloc[i] != movie.info()[\"popularity\"]):\n",
    "                    print ('\\nthe movie ', dfng[\"original_title\"].iloc[i], 'has dfng popularity of  : ', dfng[\"popularity\"].iloc[i], ' & TMDB popularity of : ', movie.info()[\"popularity\"])\n",
    "                    dfng[\"popularity\"].iloc[i] = movie.info()[\"popularity\"]\n",
    "                    print ('\\nthe movie ', dfng[\"original_title\"].iloc[i], 'has updated  popularity of ', dfng[\"popularity\"].iloc[i])\n",
    "\n",
    "                # check vote_count\n",
    "                if (dfng[\"vote_count\"].iloc[i] != movie.info()[\"vote_count\"]):\n",
    "                    print ('\\nthe movie ', dfng[\"original_title\"].iloc[i], 'has dfng vote_count of  : ', dfng[\"vote_count\"].iloc[i], ' & TMDB vote_count of : ', movie.info()[\"vote_count\"])\n",
    "                    dfng[\"vote_count\"].iloc[i] = movie.info()[\"vote_count\"]\n",
    "                    print ('\\nthe movie ', dfng[\"original_title\"].iloc[i], 'has updated  vote_count of ', dfng[\"vote_count\"].iloc[i])\n",
    "\n",
    "                    \n",
    "                # check vote_average\n",
    "                if (dfng[\"vote_average\"].iloc[i] != movie.info()[\"vote_average\"]):\n",
    "                    print ('\\nthe movie ', dfng[\"original_title\"].iloc[i], 'has dfng vote_average of  : ', dfng[\"vote_average\"].iloc[i], ' & TMDB vote_average of : ', movie.info()[\"vote_average\"])\n",
    "                    dfng[\"vote_average\"].iloc[i] = movie.info()[\"vote_average\"]\n",
    "                    print ('\\nthe movie ', dfng[\"original_title\"].iloc[i], 'has updated  vote_average of ', dfng[\"vote_average\"].iloc[i])\n",
    "                    \n",
    "        except ValueError:\n",
    "            print(\"Oops!  That TMBD Request falid\")"
   ]
  },
  {
   "cell_type": "markdown",
   "metadata": {},
   "source": [
    "tmbd_id\tpopularity\tbudget\trevenue\toriginal_title\truntime\trelease_date\tvote_count\tvote_average"
   ]
  },
  {
   "cell_type": "markdown",
   "metadata": {},
   "source": [
    "### Cleaning step 5 1st  Evaluation after adjusting for runtime from TMBD runtime, & not needed columns"
   ]
  },
  {
   "cell_type": "code",
   "execution_count": null,
   "metadata": {},
   "outputs": [],
   "source": [
    "# Columns - With no Value\n",
    "# return a list of the columns which have missing values\n",
    "dfng_columns_missing_values = dfng.columns[dfng.isnull().any()]\n",
    "print('dfng_columns_missing_values are: ', dfng_columns_missing_values, '\\n')\n",
    "\n",
    "for column in dfng_columns_missing_values:\n",
    "    print('the number of missing valuses in ', column, ' is ', dfng[column].isnull().sum())"
   ]
  },
  {
   "cell_type": "code",
   "execution_count": null,
   "metadata": {},
   "outputs": [],
   "source": [
    "# Columns - With Zero Value\n",
    "# return a list of the columns which have ZERO values\n",
    "dfng_columns_zero_values = dfng.columns[dfng.isin([0]).any()]\n",
    "print('dfng_columns_zero_values are: ', dfng_columns_zero_values)\n",
    "\n",
    "\n",
    "for colum in dfng_columns_zero_values:\n",
    "    dfng_value_zero = (dfng[colum] == 0).sum()\n",
    "    print('The number of ZERO valuses in ', colum, ' is ', dfng_value_zero)"
   ]
  },
  {
   "cell_type": "code",
   "execution_count": null,
   "metadata": {},
   "outputs": [],
   "source": [
    "#find raws with Zero values\n",
    "dfng_raws_with_zero_values = dfng[dfng.isin([0]).any(axis=1)]"
   ]
  },
  {
   "cell_type": "code",
   "execution_count": null,
   "metadata": {},
   "outputs": [],
   "source": [
    "# find raws with NULL valus\n",
    "dfng_raws_with_null_values = dfng[dfng.isnull().any(axis=1)]"
   ]
  },
  {
   "cell_type": "code",
   "execution_count": null,
   "metadata": {},
   "outputs": [],
   "source": [
    "print ('dfng_ raws_with_null_values : ',dfng_raws_with_null_values.size)\n",
    "print ('dfng_ raws_with_zero_values : ',dfng_raws_with_zero_values.size)"
   ]
  },
  {
   "cell_type": "markdown",
   "metadata": {},
   "source": [
    "**Note: The result of updating the data from the internet shows**\n",
    "1. Columns\n",
    "    1.1. Number of columns of Null values is Zero\n",
    "    1.2. Number of columns of Zero Value decreased by\n",
    "        1.2.1 runtime from 31 to just 4\n",
    "        1.2.2 budget & revenu both decrease by 2\n",
    "2. Raws\n",
    "    2.1. Number of raws with null values decreased from 186354 to zero -> more than 186K values\n",
    "    2.2. Number of raws with Zero values decreased from 147231 to 84108 -> more than 63K values\n",
    "    "
   ]
  },
  {
   "cell_type": "markdown",
   "metadata": {},
   "source": [
    "Note: we will drop the 4 raws that has No or Zero runtime value as we can't have movies with zero mins"
   ]
  },
  {
   "cell_type": "code",
   "execution_count": null,
   "metadata": {},
   "outputs": [],
   "source": [
    "dfng.shape"
   ]
  },
  {
   "cell_type": "code",
   "execution_count": null,
   "metadata": {},
   "outputs": [],
   "source": [
    "# Delet the 4 raws where the runtime value is zero\n",
    "dfng = dfng.loc[dfng[\"runtime\"] != 0]"
   ]
  },
  {
   "cell_type": "code",
   "execution_count": null,
   "metadata": {},
   "outputs": [],
   "source": [
    "# confimr that our data set decreased by 4 rawas\n",
    "dfng.shape"
   ]
  },
  {
   "cell_type": "markdown",
   "metadata": {},
   "source": [
    "## !!!  : the below code do more than 5000 API calls to TMBD and will take a very long time\n",
    "### you can skip if you want but the conclussion you will have will differ"
   ]
  },
  {
   "cell_type": "markdown",
   "metadata": {},
   "source": [
    "We cannot just drop all this number of columsn \n",
    "The number of ZERO valuses in  budget  is  5694 this is a very hug so we will try to get from the TMBD database"
   ]
  },
  {
   "cell_type": "code",
   "execution_count": null,
   "metadata": {
    "scrolled": true
   },
   "outputs": [],
   "source": [
    "#columns_zero_values are:  Index(['budget', 'revenue', 'runtime', 'budget_adj', 'revenue_adj']\n",
    "for i in range(len(dfng['budget'])):\n",
    "    if dfng[\"budget\"].iloc[i] <1600:\n",
    "        print ('\\n the movie ', dfng[\"original_title\"].iloc[i], 'has budget less than 1600 dollar, its TMDB_id ', dfng[\"tmbd_id\"].iloc[i])\n",
    "        \n",
    "        # Get the Movie info from TMBD\n",
    "        try:\n",
    "            movie_tmbd_id = dfng[\"tmbd_id\"].iloc[i]\n",
    "            movie = tmdb.Movies(movie_tmbd_id)\n",
    "\n",
    "            # check budget and update \n",
    "            # if Original data budgut is Zero\n",
    "            if  movie.info()[\"budget\"] !=0:\n",
    "                if dfng[\"budget\"].iloc[i] != movie.info()[\"budget\"]:\n",
    "                    print ('\\nthe movie ', dfng[\"original_title\"].iloc[i], 'has dfng budget of  : ', dfng[\"budget\"].iloc[i])\n",
    "                    print ('the movie ', dfng[\"original_title\"].iloc[i], 'has TMDB budget of : ', movie.info()[\"budget\"])\n",
    "                    dfng[\"budget\"].iloc[i] = movie.info()[\"budget\"]\n",
    "                    print ('the movie ', dfng[\"original_title\"].iloc[i], 'has updated budget of : ', dfng[\"budget\"].iloc[i])\n",
    "\n",
    "                    # adjust for inflation\n",
    "                    print('adjust for inflation \\n')\n",
    "                    print ('the movie ', dfng[\"original_title\"].iloc[i], 'has dfng adjusted budget of : ', dfng[\"budget_adj\"].iloc[i])\n",
    "                    movie_budget_adj = get_inflation_adjusted(movie.info()[\"budget\"], dfng[\"release_year\"].iloc[i], 2010)\n",
    "                    if dfng[\"budget_adj\"].iloc[i] != movie_budget_adj:\n",
    "                        # Replace the old budget_adj with the retunred budget_adj\n",
    "                        print('movie_budget_adj : ', movie_budget_adj)\n",
    "                        dfng[\"budget_adj\"].iloc[i] = np.int64(movie_budget_adj)\n",
    "                        print ('the movie ', dfng[\"original_title\"].iloc[i], 'has updated budget of : ', dfng[\"budget_adj\"].iloc[i])\n",
    "\n",
    "                # check Revenu and update \n",
    "                # if Original data of Revenu is Zero\n",
    "                if movie.info()[\"revenue\"] !=0:\n",
    "                    if (dfng[\"revenue\"].iloc[i] != movie.info()[\"revenue\"]):\n",
    "                        print ('\\nthe movie ', dfng[\"original_title\"].iloc[i], 'has dfng revenu of  : ', dfng[\"revenue\"].iloc[i])\n",
    "                        print ('the movie ', dfng[\"original_title\"].iloc[i], 'has TMDB revenue of : ', movie.info()[\"revenue\"])\n",
    "                        dfng[\"revenue\"].iloc[i] = movie.info()[\"revenue\"]\n",
    "                        print ('the movie ', dfng[\"original_title\"].iloc[i], 'has updated revenue of : ', dfng[\"revenue\"].iloc[i])\n",
    "\n",
    "                        # adjust revenue for inflation\n",
    "                        print('adjust revenue for inflation \\n')\n",
    "                        print ('the movie ', dfng[\"original_title\"].iloc[i], 'has dfng adjusted revenue of : ', dfng[\"revenue_adj\"].iloc[i])\n",
    "                        movie_revenue_adj = get_inflation_adjusted(movie.info()[\"revenue\"], dfng[\"release_year\"].iloc[i], 2010)\n",
    "                        if dfng[\"revenue_adj\"].iloc[i] != movie_revenue_adj:\n",
    "                            # Replace the old revenue_adj with the calculated revenue_adj\n",
    "                            print('movie_revenue_adj : ', movie_revenue_adj)\n",
    "                            dfng[\"revenue_adj\"].iloc[i] = np.int64(movie_revenue_adj)\n",
    "                            print ('the movie ', dfng[\"original_title\"].iloc[i], 'has updated revenue_adj of : ', dfng[\"revenue_adj\"].iloc[i])\n",
    "                \n",
    "                # check popularity\n",
    "                if movie.info()[\"popularity\"] !=0:\n",
    "                    if (dfng[\"popularity\"].iloc[i] != movie.info()[\"popularity\"]):\n",
    "                        print ('\\nthe movie ', dfng[\"original_title\"].iloc[i], 'has dfng popularity of  : ', dfng[\"popularity\"].iloc[i], ' & TMDB popularity of : ', movie.info()[\"popularity\"])\n",
    "                        dfng[\"popularity\"].iloc[i] = movie.info()[\"popularity\"]\n",
    "                        print ('\\nthe movie ', dfng[\"original_title\"].iloc[i], 'has updated  popularity of ', dfng[\"popularity\"].iloc[i])\n",
    "\n",
    "                # check vote_count\n",
    "                if movie.info()[\"vote_count\"] !=0:\n",
    "                    if (dfng[\"vote_count\"].iloc[i] != movie.info()[\"vote_count\"]):\n",
    "                        print ('\\nthe movie ', dfng[\"original_title\"].iloc[i], 'has dfng vote_count of  : ', dfng[\"vote_count\"].iloc[i], ' & TMDB vote_count of : ', movie.info()[\"vote_count\"])\n",
    "                        dfng[\"vote_count\"].iloc[i] = movie.info()[\"vote_count\"]\n",
    "                        print ('\\nthe movie ', dfng[\"original_title\"].iloc[i], 'has updated  vote_count of ', dfng[\"vote_count\"].iloc[i])\n",
    "\n",
    "                    \n",
    "                # check vote_average\n",
    "                if movie.info()[\"vote_average\"] !=0:\n",
    "                    if (dfng[\"vote_average\"].iloc[i] != movie.info()[\"vote_average\"]):\n",
    "                        print ('\\nthe movie ', dfng[\"original_title\"].iloc[i], 'has dfng vote_average of  : ', dfng[\"vote_average\"].iloc[i], ' & TMDB vote_average of : ', movie.info()[\"vote_average\"])\n",
    "                        dfng[\"vote_average\"].iloc[i] = movie.info()[\"vote_average\"]\n",
    "                        print ('\\nthe movie ', dfng[\"original_title\"].iloc[i], 'has updated  vote_average of ', dfng[\"vote_average\"].iloc[i])\n",
    "        except requests.HTTPError as exception:\n",
    "            print(\"Oops!  That TMBD Request falid\")\n",
    "            print(exception)"
   ]
  },
  {
   "cell_type": "markdown",
   "metadata": {},
   "source": [
    "saving the data to a csv file for future resue to avoid doing again all the intern calls"
   ]
  },
  {
   "cell_type": "markdown",
   "metadata": {},
   "source": [
    "## Attention\n",
    "**If you didn't run the above long API calls **\n",
    "1. don't run the next step as I already ran it once befor and saved the data to a file\n",
    "2. Skipp till read from the saved CSV files"
   ]
  },
  {
   "cell_type": "code",
   "execution_count": null,
   "metadata": {},
   "outputs": [],
   "source": [
    "# run only if you already did the api calls\n",
    "dfng.to_csv('tmdb-movies_live_122021_not_clean.csv', index=False)"
   ]
  },
  {
   "cell_type": "markdown",
   "metadata": {},
   "source": [
    "### Cleaning step 5 2nd  Evaluation after adjusting for extensive TMBD API calls"
   ]
  },
  {
   "cell_type": "code",
   "execution_count": null,
   "metadata": {},
   "outputs": [],
   "source": [
    "# Columns - With no Value\n",
    "# return a list of the columns which have missing values\n",
    "dfng_columns_missing_values = dfng.columns[dfng.isnull().any()]\n",
    "print('dfng_columns_missing_values are: ', dfng_columns_missing_values, '\\n')\n",
    "\n",
    "for column in dfng_columns_missing_values:\n",
    "    print('the number of missing valuses in ', column, ' is ', dfng[column].isnull().sum())"
   ]
  },
  {
   "cell_type": "code",
   "execution_count": null,
   "metadata": {},
   "outputs": [],
   "source": [
    "# Columns - With Zero Value\n",
    "# return a list of the columns which have ZERO values\n",
    "dfng_columns_zero_values = dfng.columns[dfng.isin([0]).any()]\n",
    "print('dfng_columns_zero_values are: ', dfng_columns_zero_values)\n",
    "\n",
    "\n",
    "for colum in dfng_columns_zero_values:\n",
    "    dfng_value_zero = (dfng[colum] == 0).sum()\n",
    "    print('The number of ZERO valuses in ', colum, ' is ', dfng_value_zero)"
   ]
  },
  {
   "cell_type": "code",
   "execution_count": null,
   "metadata": {},
   "outputs": [],
   "source": [
    "#find raws with Zero values\n",
    "dfng_raws_with_zero_values = dfng[dfng.isin([0]).any(axis=1)]"
   ]
  },
  {
   "cell_type": "code",
   "execution_count": null,
   "metadata": {},
   "outputs": [],
   "source": [
    "# find raws with NULL valus\n",
    "dfng_raws_with_null_values = dfng[dfng.isnull().any(axis=1)]"
   ]
  },
  {
   "cell_type": "code",
   "execution_count": null,
   "metadata": {},
   "outputs": [],
   "source": [
    "print ('dfng_ raws_with_null_values : ',dfng_raws_with_null_values.size)\n",
    "print ('dfng_ raws_with_zero_values : ',dfng_raws_with_zero_values.size)"
   ]
  },
  {
   "cell_type": "markdown",
   "metadata": {},
   "source": [
    "**Note:** loading data from the new live TMDB file"
   ]
  },
  {
   "cell_type": "code",
   "execution_count": null,
   "metadata": {},
   "outputs": [],
   "source": [
    "dfupdated = pd.read_csv('tmdb-movies_live_122021_not_clean.csv')"
   ]
  },
  {
   "cell_type": "code",
   "execution_count": null,
   "metadata": {},
   "outputs": [],
   "source": [
    "dfupdated.shape"
   ]
  },
  {
   "cell_type": "code",
   "execution_count": null,
   "metadata": {},
   "outputs": [],
   "source": [
    "# now find how many raws has values with a Zero value\n",
    "dfupdated[dfupdated.isin([0]).any(axis=1)].size"
   ]
  },
  {
   "cell_type": "code",
   "execution_count": null,
   "metadata": {},
   "outputs": [],
   "source": [
    "# now we want to know the columns that include the zero value\n",
    "dfupdated.columns[dfupdated.isin([0]).any()]  # df.isin([response])"
   ]
  },
  {
   "cell_type": "markdown",
   "metadata": {},
   "source": [
    "**Note**:\n",
    "- Given: \n",
    "- The fact that we stillhave a lot of rawas that has zero Values\n",
    "    The number of ZERO valuses in  budget  is  4815\n",
    "    The number of ZERO valuses in  revenue  is  5567\n",
    "    The number of ZERO valuses in  budget_adj  is  4815\n",
    "    The number of ZERO valuses in  revenue_adj  is  5567we will drop the raws that has Zero value \n",
    "- the above amount of raws missing values impacts more than 45% of the data, hence using the mean to substitue them will affect thae data. prefered to work on actual data and get more clean result than using the mean"
   ]
  },
  {
   "cell_type": "code",
   "execution_count": null,
   "metadata": {},
   "outputs": [],
   "source": [
    "for col_name in dfupdated.columns: \n",
    "    dfupdated = dfupdated.loc[dfupdated[col_name] != 0]"
   ]
  },
  {
   "cell_type": "code",
   "execution_count": null,
   "metadata": {},
   "outputs": [],
   "source": [
    "# checking that no rawas has a ZeroL value\n",
    "#find raws with Zero values\n",
    "dfupdated_raws_with_zero_values = dfupdated[dfupdated.isin([0]).any(axis=1)]\n",
    "print ('dfupdated_raws_with_zero_values : ',dfupdated_raws_with_zero_values.size)"
   ]
  },
  {
   "cell_type": "code",
   "execution_count": null,
   "metadata": {},
   "outputs": [],
   "source": [
    "dfupdated.shape"
   ]
  },
  {
   "cell_type": "code",
   "execution_count": null,
   "metadata": {},
   "outputs": [],
   "source": [
    "dfupdated.info()"
   ]
  },
  {
   "cell_type": "code",
   "execution_count": null,
   "metadata": {
    "scrolled": true
   },
   "outputs": [],
   "source": [
    "dfupdated.describe()"
   ]
  },
  {
   "cell_type": "code",
   "execution_count": null,
   "metadata": {
    "scrolled": true
   },
   "outputs": [],
   "source": [
    "dfupdated.head(5)"
   ]
  },
  {
   "cell_type": "code",
   "execution_count": null,
   "metadata": {},
   "outputs": [],
   "source": [
    "dfupdated['profite'] = dfupdated['revenue_adj']-dfupdated['budget_adj']"
   ]
  },
  {
   "cell_type": "code",
   "execution_count": null,
   "metadata": {},
   "outputs": [],
   "source": [
    "# Runtime cost == the cost of producing every minite of the movie\n",
    "dfupdated['runtime_cost'] = dfupdated['budget_adj']/ dfupdated['runtime']"
   ]
  },
  {
   "cell_type": "code",
   "execution_count": null,
   "metadata": {},
   "outputs": [],
   "source": [
    "dfupdated.head(5)"
   ]
  },
  {
   "cell_type": "markdown",
   "metadata": {},
   "source": [
    "<a id='eda'></a>\n",
    "## Exploratory Data Analysis\n",
    "\n",
    "> **Tip**: Now that you've trimmed and cleaned your data, you're ready to move on to exploration. **Compute statistics** and **create visualizations** with the goal of addressing the research questions that you posed in the Introduction section. You should compute the relevant statistics throughout the analysis when an inference is made about the data. Note that at least two or more kinds of plots should be created as part of the exploration, and you must  compare and show trends in the varied visualizations. \n",
    "\n",
    "\n",
    "\n",
    "> **Tip**: - Investigate the stated question(s) from multiple angles. It is recommended that you be systematic with your approach. Look at one variable at a time, and then follow it up by looking at relationships between variables. You should explore at least three variables in relation to the primary question. This can be an exploratory relationship between three variables of interest, or looking at how two independent variables relate to a single dependent variable of interest. Lastly, you  should perform both single-variable (1d) and multiple-variable (2d) explorations.\n"
   ]
  },
  {
   "cell_type": "code",
   "execution_count": null,
   "metadata": {},
   "outputs": [],
   "source": [
    "# A quick way to view histograms for all numerical columns in a dataframe is a hist function\n",
    "dfupdated.hist(figsize=(12,12)); # the \";\" removes the unwanted output"
   ]
  },
  {
   "cell_type": "code",
   "execution_count": null,
   "metadata": {},
   "outputs": [],
   "source": [
    "pd.plotting.scatter_matrix(dfupdated, figsize=(15,15));"
   ]
  },
  {
   "cell_type": "code",
   "execution_count": null,
   "metadata": {
    "scrolled": true
   },
   "outputs": [],
   "source": [
    "# call histograme for a specific column\n",
    "dfupdated['release_year'].hist();"
   ]
  },
  {
   "cell_type": "code",
   "execution_count": null,
   "metadata": {},
   "outputs": [],
   "source": [
    "# This \"value_counts\" function aggregates counts for each unique value in a column\n",
    "dfupdated['release_year'].value_counts()"
   ]
  },
  {
   "cell_type": "code",
   "execution_count": null,
   "metadata": {
    "scrolled": false
   },
   "outputs": [],
   "source": [
    "dfupdated['release_year'].value_counts().plot(kind='bar', figsize=(12,12));"
   ]
  },
  {
   "cell_type": "markdown",
   "metadata": {},
   "source": [
    "### Research Q 1 (Does release year affect the movie watcher -  Internet Impact)"
   ]
  },
  {
   "cell_type": "code",
   "execution_count": null,
   "metadata": {
    "scrolled": true
   },
   "outputs": [],
   "source": [
    "dfupdated.plot(x='release_year', y = 'popularity', kind='scatter');"
   ]
  },
  {
   "cell_type": "code",
   "execution_count": null,
   "metadata": {
    "scrolled": true
   },
   "outputs": [],
   "source": [
    "dfupdated.plot(x='release_year', y = 'vote_average', kind='scatter'); "
   ]
  },
  {
   "cell_type": "code",
   "execution_count": null,
   "metadata": {
    "scrolled": true
   },
   "outputs": [],
   "source": [
    "dfupdated.plot(x='release_year', y = 'vote_count', kind='scatter');"
   ]
  },
  {
   "cell_type": "markdown",
   "metadata": {},
   "source": [
    "### Research Q 1 Conclusion:\n",
    "- With the avilability of internet people now have more ways to watch movies, & it is not limited any more to the movie theaters, that is reflected on;\n",
    "1. More movies tends to have higher popularity\n",
    "2. The average number of votes significattly increase as now the industry has more means to collect the user votes\n",
    "3. The vote significattly increase as now the industry has more means to collect the user votes"
   ]
  },
  {
   "cell_type": "markdown",
   "metadata": {},
   "source": [
    "### Research Q 2 (When people tends to vote -  Internet Impact)"
   ]
  },
  {
   "cell_type": "code",
   "execution_count": null,
   "metadata": {
    "scrolled": true
   },
   "outputs": [],
   "source": [
    "dfupdated.plot(x='popularity', y = 'vote_count', kind='scatter');"
   ]
  },
  {
   "cell_type": "code",
   "execution_count": null,
   "metadata": {
    "scrolled": true
   },
   "outputs": [],
   "source": [
    "dfupdated.plot(x='popularity', y = 'vote_average', kind='scatter');"
   ]
  },
  {
   "cell_type": "markdown",
   "metadata": {},
   "source": [
    "### Research Q 2 Conclusion:\n",
    "1. The most popular movies has les votes count than the less popular\n",
    "2. The most popular movie has less vote average\n",
    "\n",
    "- **POV**: As people now has more means to speak-up, peolpe tends to punish the movies that they do not like, & avoid rewarding the movies that they like the most."
   ]
  },
  {
   "cell_type": "markdown",
   "metadata": {},
   "source": [
    "### Research Q 3 (Does Recessions periods affect the movie Industry - Economically )\n",
    "As per [wikipedia](https://en.wikipedia.org/wiki/List_of_recessions_in_the_United_States) the following periods had recession\n",
    "1. Apr 1960–Feb 1961\t10 months\n",
    "2. Dec 1969–Nov 1970\t11 months\n",
    "3. Nov 1973–Mar 1975\t1 year 4 months\n",
    "5. Jan 1980–July 1980\t6 months\n",
    "6. July 1981–Nov 1982\t1 year4 months\n",
    "7. July 1990–Mar 1991\t8 months\n",
    "8. Mar 2001–Nov 2001\t8 months\n",
    "9. Dec 2007–June 2009\t1 year6 months"
   ]
  },
  {
   "cell_type": "code",
   "execution_count": null,
   "metadata": {},
   "outputs": [],
   "source": [
    "plt.figure(figsize=(12,8))\n",
    "plt.title('recession impact on budget', weight='bold')\n",
    "plt.xlabel('Year', weight='bold')\n",
    "plt.ylabel('budget', weight='bold');\n",
    "plt.grid()\n",
    "plt.plot(dfupdated.groupby('release_year').sum()['budget_adj']);"
   ]
  },
  {
   "cell_type": "code",
   "execution_count": null,
   "metadata": {
    "scrolled": false
   },
   "outputs": [],
   "source": [
    "plt.figure(figsize=(12,8))\n",
    "plt.title('recession impact on revenue', weight='bold')\n",
    "plt.xlabel('Year', weight='bold')\n",
    "plt.ylabel('revenue', weight='bold');\n",
    "plt.grid()\n",
    "plt.plot(dfupdated.groupby('release_year').sum()['revenue_adj']);"
   ]
  },
  {
   "cell_type": "code",
   "execution_count": null,
   "metadata": {
    "scrolled": false
   },
   "outputs": [],
   "source": [
    "plt.figure(figsize=(12,8))\n",
    "plt.title('recession impact on profit', weight='bold')\n",
    "plt.xlabel('Year', weight='bold')\n",
    "plt.ylabel('profit', weight='bold');\n",
    "plt.grid()\n",
    "plt.plot(dfupdated.groupby('release_year').sum()['profite']);"
   ]
  },
  {
   "cell_type": "markdown",
   "metadata": {},
   "source": [
    "### Research Q 3 Conclusion:\n",
    "**Budget**\n",
    "- Their is a decline in movie budget starts with the rescission and continue after the rescission. \n",
    "- Longer period of rescission is represented by more budget cuts\n",
    "**revenue, & Profir**\n",
    "- Their is an increase in profite & revnue durring recession example (Dec 2007–June 2009), & (Mar 2001–Nov 2001).\n",
    "- **POV**: My guess is that people tends to look for a cheap way to intertain themselves during hard times"
   ]
  },
  {
   "cell_type": "markdown",
   "metadata": {},
   "source": [
    "<a id='conclusions'></a>\n",
    "## Conclusions\n",
    "\n",
    "- The Avilability of internet & recessision tends to have impact on the movie industry."
   ]
  },
  {
   "cell_type": "markdown",
   "metadata": {},
   "source": [
    "### Limitations\n",
    "- The data is not up to date till today. it will be interesting to compare between the great recession 2007 -2009, & the COVID-19 recession 2020-2021 as their is a significant life style change.\n",
    "- On line TV producers are not really included. Amazon has only 2 movies, Netflix has only 8 movies included. That can be due to those two companies joined the producers club late. it will be interesting to investigate the difference between the movies they produce and the other industry producers."
   ]
  },
  {
   "cell_type": "markdown",
   "metadata": {},
   "source": [
    "## Submitting your Project \n",
    "\n",
    "> **Tip**: Before you submit your project, you need to create a .html or .pdf version of this notebook in the workspace here. To do that, run the code cell below. If it worked correctly, you should get a return code of 0, and you should see the generated .html file in the workspace directory (click on the orange Jupyter icon in the upper left).\n",
    "\n",
    "> **Tip**: Alternatively, you can download this report as .html via the **File** > **Download as** submenu, and then manually upload it into the workspace directory by clicking on the orange Jupyter icon in the upper left, then using the Upload button.\n",
    "\n",
    "> **Tip**: Once you've done this, you can submit your project by clicking on the \"Submit Project\" button in the lower right here. This will create and submit a zip file with this .ipynb doc and the .html or .pdf version you created. Congratulations!"
   ]
  },
  {
   "cell_type": "code",
   "execution_count": null,
   "metadata": {},
   "outputs": [],
   "source": [
    "from subprocess import call\n",
    "call(['python', '-m', 'nbconvert', 'Investigate_a_Dataset.ipynb'])"
   ]
  }
 ],
 "metadata": {
  "kernelspec": {
   "display_name": "Python 3 (ipykernel)",
   "language": "python",
   "name": "python3"
  },
  "language_info": {
   "codemirror_mode": {
    "name": "ipython",
    "version": 3
   },
   "file_extension": ".py",
   "mimetype": "text/x-python",
   "name": "python",
   "nbconvert_exporter": "python",
   "pygments_lexer": "ipython3",
   "version": "3.9.7"
  }
 },
 "nbformat": 4,
 "nbformat_minor": 2
}
